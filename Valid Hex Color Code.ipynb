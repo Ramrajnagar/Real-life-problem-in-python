{
 "cells": [
  {
   "cell_type": "markdown",
   "metadata": {},
   "source": [
    "Question:\n",
    "Given a string, return True if it is a valid hex color code.\n"
   ]
  },
  {
   "cell_type": "code",
   "execution_count": null,
   "metadata": {},
   "outputs": [],
   "source": [
    "def is_valid_hex_color(hex_code):\n",
    "    if len(hex_code) == 7 and hex_code[0] == '#':\n",
    "        hex_digits = hex_code[1:]\n",
    "        if all(c in '0123456789ABCDEFabcdef' for c in hex_digits):\n",
    "            return True\n",
    "    return False\n",
    "\n",
    "# Test cases\n",
    "print(is_valid_hex_color(\"#A1B2C3\"))  # True\n",
    "print(is_valid_hex_color(\"#12345G\"))  # False\n",
    "print(is_valid_hex_color(\"123456\"))   # False\n"
   ]
  }
 ],
 "metadata": {
  "kernelspec": {
   "display_name": "Python 3",
   "language": "python",
   "name": "python3"
  },
  "language_info": {
   "codemirror_mode": {
    "name": "ipython",
    "version": 3
   },
   "file_extension": ".py",
   "mimetype": "text/x-python",
   "name": "python",
   "nbconvert_exporter": "python",
   "pygments_lexer": "ipython3",
   "version": "3.12.6"
  }
 },
 "nbformat": 4,
 "nbformat_minor": 2
}
