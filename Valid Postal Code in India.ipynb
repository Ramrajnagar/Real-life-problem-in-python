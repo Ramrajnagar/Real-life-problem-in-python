{
 "cells": [
  {
   "cell_type": "markdown",
   "metadata": {},
   "source": [
    "Question:\n",
    "Given a string, check if it’s a valid postal code in India.\n"
   ]
  },
  {
   "cell_type": "code",
   "execution_count": null,
   "metadata": {},
   "outputs": [],
   "source": [
    "def is_valid_postal_code(postal_code):\n",
    "    # Check if postal code is exactly 6 digits\n",
    "    if len(postal_code) == 6 and postal_code.isdigit():\n",
    "        return True\n",
    "    return False\n",
    "\n",
    "# Test cases\n",
    "print(is_valid_postal_code(\"110001\"))  # True\n",
    "print(is_valid_postal_code(\"12345\"))   # False\n",
    "print(is_valid_postal_code(\"ABCDE6\"))  # False\n"
   ]
  }
 ],
 "metadata": {
  "kernelspec": {
   "display_name": "Python 3",
   "language": "python",
   "name": "python3"
  },
  "language_info": {
   "codemirror_mode": {
    "name": "ipython",
    "version": 3
   },
   "file_extension": ".py",
   "mimetype": "text/x-python",
   "name": "python",
   "nbconvert_exporter": "python",
   "pygments_lexer": "ipython3",
   "version": "3.12.6"
  }
 },
 "nbformat": 4,
 "nbformat_minor": 2
}
