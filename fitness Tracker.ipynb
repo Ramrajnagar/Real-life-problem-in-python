{
 "cells": [
  {
   "cell_type": "markdown",
   "metadata": {},
   "source": [
    "Question:\n",
    "A fitness tracker records the number of steps a person takes for 30 days. Write a program to find the average steps per day, and identify the days when the user exceeded 10,000 steps.\n"
   ]
  },
  {
   "cell_type": "code",
   "execution_count": null,
   "metadata": {},
   "outputs": [],
   "source": [
    "#A fitness tracker records steps for 30 days. Find the average steps per day and identify the days exceeding 10,000 steps.\n",
    "\n",
    "# Steps recorded for 30 days (example data)\n",
    "steps = [8000, 10000, 12000, 9000, 11000, 7500, 13000, 8000, 8500, 12500,\n",
    "         14000, 9500, 9800, 11000, 12300, 8800, 10000, 11500, 9000, 10200,\n",
    "         8700, 8900, 9200, 14000, 15000, 9100, 8000, 10800, 10700, 9800]\n",
    "\n",
    "# Calculate total steps\n",
    "total_steps = 0\n",
    "for i in range(30):\n",
    "    total_steps += steps[i]\n",
    "\n",
    "# Calculate average steps\n",
    "average_steps = total_steps // 30\n",
    "\n",
    "# Identify days exceeding 10,000 steps\n",
    "print(\"Average steps per day:\", average_steps)\n",
    "print(\"Days exceeding 10,000 steps:\")\n",
    "\n",
    "for i in range(30):\n",
    "    if steps[i] > 10000:\n",
    "        print(f\"Day {i + 1}: {steps[i]} steps\")\n"
   ]
  }
 ],
 "metadata": {
  "kernelspec": {
   "display_name": "Python 3",
   "language": "python",
   "name": "python3"
  },
  "language_info": {
   "codemirror_mode": {
    "name": "ipython",
    "version": 3
   },
   "file_extension": ".py",
   "mimetype": "text/x-python",
   "name": "python",
   "nbconvert_exporter": "python",
   "pygments_lexer": "ipython3",
   "version": "3.12.6"
  }
 },
 "nbformat": 4,
 "nbformat_minor": 2
}
