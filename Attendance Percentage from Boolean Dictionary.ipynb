{
 "cells": [
  {
   "cell_type": "markdown",
   "metadata": {},
   "source": [
    "Question:\n",
    "Given a dictionary with student names and a list of booleans representing their attendance over 5 days, return a dictionary with student names and their attendance percentage."
   ]
  },
  {
   "cell_type": "code",
   "execution_count": null,
   "metadata": {},
   "outputs": [],
   "source": [
    "# Example dictionary with attendance (True = present, False = absent)\n",
    "attendance_record = {\n",
    "    \"Alice\": [True, False, True, True, True],\n",
    "    \"Bob\": [True, True, True, False, True],\n",
    "    \"Charlie\": [False, True, True, True, False]\n",
    "}\n",
    "\n",
    "# Calculate attendance percentage\n",
    "attendance_percentage = {}\n",
    "\n",
    "for student, attendance in attendance_record.items():\n",
    "    total_classes = 0\n",
    "    attended_classes = 0\n",
    "    for day in attendance:\n",
    "        total_classes += 1\n",
    "        if day:\n",
    "            attended_classes += 1\n",
    "    percentage = (attended_classes * 100) // total_classes\n",
    "    attendance_percentage[student] = percentage\n",
    "\n",
    "# Display the results\n",
    "for student, percentage in attendance_percentage.items():\n",
    "    print(f\"{student}: {percentage}% attendance\")\n"
   ]
  }
 ],
 "metadata": {
  "kernelspec": {
   "display_name": "Python 3",
   "language": "python",
   "name": "python3"
  },
  "language_info": {
   "codemirror_mode": {
    "name": "ipython",
    "version": 3
   },
   "file_extension": ".py",
   "mimetype": "text/x-python",
   "name": "python",
   "nbconvert_exporter": "python",
   "pygments_lexer": "ipython3",
   "version": "3.12.6"
  }
 },
 "nbformat": 4,
 "nbformat_minor": 2
}
