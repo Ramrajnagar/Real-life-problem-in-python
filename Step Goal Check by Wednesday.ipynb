{
 "cells": [
  {
   "cell_type": "markdown",
   "metadata": {},
   "source": [
    "Question:\n",
    "A fitness app is tracking the steps of users daily. A user logs 3,500 steps on Monday, 6,200 on Tuesday, and 4,800 on Wednesday. On Thursday, they plan to do a workout for 45 minutes instead of walking. The app recommends users take at least 5,000 steps a day on average. Write a program to check if the user has met their step goal by Wednesday.\n"
   ]
  },
  {
   "cell_type": "code",
   "execution_count": null,
   "metadata": {},
   "outputs": [],
   "source": [
    "#A user logs steps for three days and plans a workout on Thursday. Check if they meet the goal of 5,000 steps/day on average by Wednesday.\n",
    "\n",
    "# Steps logged on Monday, Tuesday, and Wednesday\n",
    "steps_monday = 3500\n",
    "steps_tuesday = 6200\n",
    "steps_wednesday = 4800\n",
    "\n",
    "# Calculate total steps by Wednesday\n",
    "total_steps = steps_monday + steps_tuesday + steps_wednesday\n",
    "\n",
    "# Calculate average steps per day by Wednesday\n",
    "average_steps = total_steps // 3\n",
    "\n",
    "# Check if the average is at least 5000 steps\n",
    "if average_steps >= 5000:\n",
    "    print(\"Step goal met by Wednesday with an average of\", average_steps, \"steps.\")\n",
    "else:\n",
    "    print(\"Step goal not met. Average steps:\", average_steps)\n"
   ]
  }
 ],
 "metadata": {
  "kernelspec": {
   "display_name": "Python 3",
   "language": "python",
   "name": "python3"
  },
  "language_info": {
   "codemirror_mode": {
    "name": "ipython",
    "version": 3
   },
   "file_extension": ".py",
   "mimetype": "text/x-python",
   "name": "python",
   "nbconvert_exporter": "python",
   "pygments_lexer": "ipython3",
   "version": "3.12.6"
  }
 },
 "nbformat": 4,
 "nbformat_minor": 2
}
