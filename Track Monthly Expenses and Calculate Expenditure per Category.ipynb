{
 "cells": [
  {
   "cell_type": "markdown",
   "metadata": {},
   "source": [
    "Question:\n",
    "Imagine you’re tracking your monthly expenses and want to know how much you’re spending on each category, like groceries, rent, transportation, etc. Write a Python program that calculates the total expenses for each category and shows you where most of your money is going. This could involve asking the user to enter expenses in different categories, summing up each category’s expenses and displaying the results and the category with the highest expenditure.\n"
   ]
  },
  {
   "cell_type": "code",
   "execution_count": null,
   "metadata": {},
   "outputs": [],
   "source": [
    "def track_expenses():\n",
    "    categories = [\"Groceries\", \"Rent\", \"Transportation\", \"Entertainment\", \"Miscellaneous\"]\n",
    "    expenses = {}\n",
    "    total_expense = 0\n",
    "\n",
    "    # Input expenses for each category\n",
    "    for category in categories:\n",
    "        expense = float(input(f\"Enter your expense for {category}: INR \"))\n",
    "        expenses[category] = expense\n",
    "        total_expense += expense\n",
    "\n",
    "    # Display total expense and category with the highest expenditure\n",
    "    print(\"\\nTotal Expenses:\")\n",
    "    for category, expense in expenses.items():\n",
    "        print(f\"{category}: INR {expense}\")\n",
    "\n",
    "    max_category = max(expenses, key=expenses.get)\n",
    "    print(f\"\\nThe category with the highest expenditure is {max_category} with INR {expenses[max_category]}.\")\n",
    "\n",
    "# Uncomment the following line to run the function\n",
    "track_expenses()\n"
   ]
  }
 ],
 "metadata": {
  "kernelspec": {
   "display_name": "Python 3",
   "language": "python",
   "name": "python3"
  },
  "language_info": {
   "codemirror_mode": {
    "name": "ipython",
    "version": 3
   },
   "file_extension": ".py",
   "mimetype": "text/x-python",
   "name": "python",
   "nbconvert_exporter": "python",
   "pygments_lexer": "ipython3",
   "version": "3.12.6"
  }
 },
 "nbformat": 4,
 "nbformat_minor": 2
}
