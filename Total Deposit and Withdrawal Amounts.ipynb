{
 "cells": [
  {
   "cell_type": "markdown",
   "metadata": {},
   "source": [
    "Question:\n",
    "A bank records the daily transactions of 20 customers. Some transactions are deposits, and some are withdrawals. Write a program that calculates the total deposit and withdrawal amounts for each customer.\n"
   ]
  },
  {
   "cell_type": "code",
   "execution_count": null,
   "metadata": {},
   "outputs": [],
   "source": [
    "transactions = [[2000, -1500, 1000], [-3000, 2000, -500], [500, -100, 200]]  # Example data\n",
    "\n",
    "for i in range(len(transactions)):\n",
    "    deposits = 0\n",
    "    withdrawals = 0\n",
    "    for j in range(len(transactions[i])):\n",
    "        if transactions[i][j] > 0:\n",
    "            deposits += transactions[i][j]\n",
    "        else:\n",
    "            withdrawals += -transactions[i][j]\n",
    "    print(\"Customer\", i + 1, \"Deposits =\", deposits, \"Withdrawals =\", withdrawals)\n"
   ]
  }
 ],
 "metadata": {
  "kernelspec": {
   "display_name": "Python 3",
   "language": "python",
   "name": "python3"
  },
  "language_info": {
   "codemirror_mode": {
    "name": "ipython",
    "version": 3
   },
   "file_extension": ".py",
   "mimetype": "text/x-python",
   "name": "python",
   "nbconvert_exporter": "python",
   "pygments_lexer": "ipython3",
   "version": "3.12.6"
  }
 },
 "nbformat": 4,
 "nbformat_minor": 2
}
