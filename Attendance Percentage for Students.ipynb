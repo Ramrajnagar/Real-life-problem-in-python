{
 "cells": [
  {
   "cell_type": "markdown",
   "metadata": {},
   "source": [
    "Question:\n",
    "A university records the attendance of 100 students for 10 classes. Write a program to calculate the percentage of attendance for each student and display the list of students who attended less than 90% of the classes."
   ]
  },
  {
   "cell_type": "code",
   "execution_count": null,
   "metadata": {},
   "outputs": [],
   "source": [
    "# Attendance record (1 for present, 0 for absent) for 100 students over 10 classes (example data)\n",
    "attendance = [\n",
    "    [1, 1, 1, 0, 1, 1, 1, 1, 0, 1], [0, 1, 1, 1, 1, 1, 0, 1, 1, 1],  # Add more for 100 students\n",
    "    [1, 1, 0, 0, 1, 1, 1, 1, 1, 1], [1, 1, 1, 1, 0, 1, 1, 1, 1, 1]   # Example continued\n",
    "]\n",
    "\n",
    "for student_index in range(len(attendance)):\n",
    "    total_classes = 0\n",
    "    attended_classes = 0\n",
    "    \n",
    "    for status in attendance[student_index]:\n",
    "        total_classes += 1\n",
    "        if status == 1:\n",
    "            attended_classes += 1\n",
    "\n",
    "    attendance_percentage = (attended_classes * 100) // total_classes\n",
    "\n",
    "    if attendance_percentage < 90:\n",
    "        print(f\"Student {student_index + 1} has {attendance_percentage}% attendance.\")\n"
   ]
  }
 ],
 "metadata": {
  "kernelspec": {
   "display_name": "Python 3",
   "language": "python",
   "name": "python3"
  },
  "language_info": {
   "codemirror_mode": {
    "name": "ipython",
    "version": 3
   },
   "file_extension": ".py",
   "mimetype": "text/x-python",
   "name": "python",
   "nbconvert_exporter": "python",
   "pygments_lexer": "ipython3",
   "version": "3.12.6"
  }
 },
 "nbformat": 4,
 "nbformat_minor": 2
}
