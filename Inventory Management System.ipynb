{
 "cells": [
  {
   "cell_type": "markdown",
   "metadata": {},
   "source": [
    "You are given a dictionary representing the inventory of a store. The keys are the item names, and the values are tuples containing the available stock and price. Write a Python function that checks if the requested quantity of the item is available. If available, reduces the stock by the quantity purchased and returns the total price for that purchase. If not available, returns a message stating “Not enough stock.”\n"
   ]
  },
  {
   "cell_type": "code",
   "execution_count": null,
   "metadata": {},
   "outputs": [],
   "source": [
    "def check_inventory(inventory, item, quantity):\n",
    "    # Check if the item exists in the inventory\n",
    "    if item in inventory:\n",
    "        available_stock, price = inventory[item]\n",
    "        \n",
    "        # Check if the requested quantity is available\n",
    "        if available_stock >= quantity:\n",
    "            # Update stock\n",
    "            inventory[item] = (available_stock - quantity, price)\n",
    "            # Calculate total price\n",
    "            total_price = price * quantity\n",
    "            return f\"Purchase successful. Total price: INR {total_price}\"\n",
    "        else:\n",
    "            return \"Not enough stock.\"\n",
    "    else:\n",
    "        return \"Item not found.\"\n",
    "\n",
    "# Example inventory\n",
    "inventory = {\n",
    "    \"Laptop\": (10, 50000),\n",
    "    \"Phone\": (20, 15000),\n",
    "    \"Headphones\": (50, 2000)\n",
    "}\n",
    "\n",
    "# Test cases\n",
    "print(check_inventory(inventory, \"Laptop\", 5))  # Purchase successful\n",
    "print(check_inventory(inventory, \"Phone\", 25))  # Not enough stock\n",
    "print(check_inventory(inventory, \"Tablet\", 1))  # Item not found\n"
   ]
  }
 ],
 "metadata": {
  "kernelspec": {
   "display_name": "Python 3",
   "language": "python",
   "name": "python3"
  },
  "language_info": {
   "codemirror_mode": {
    "name": "ipython",
    "version": 3
   },
   "file_extension": ".py",
   "mimetype": "text/x-python",
   "name": "python",
   "nbconvert_exporter": "python",
   "pygments_lexer": "ipython3",
   "version": "3.12.6"
  }
 },
 "nbformat": 4,
 "nbformat_minor": 2
}
