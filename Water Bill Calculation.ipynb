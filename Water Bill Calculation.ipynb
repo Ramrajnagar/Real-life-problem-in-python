{
 "cells": [
  {
   "cell_type": "markdown",
   "metadata": {},
   "source": [
    "Question:\n",
    "A household is monitoring its water usage. The total water consumption for the month is 25,000 liters. The water company charges INR 50 per 1,000 liters. The family uses 5,000 liters for gardening. Write a program to calculate the total water bill for the household, excluding gardening usage.\n"
   ]
  },
  {
   "cell_type": "code",
   "execution_count": null,
   "metadata": {},
   "outputs": [],
   "source": [
    "# Total water consumption and gardening usage in liters\n",
    "total_consumption = 25000\n",
    "gardening_usage = 5000\n",
    "\n",
    "# Water company charges INR 50 per 1,000 liters\n",
    "charge_per_1000 = 50\n",
    "\n",
    "# Calculate billable usage\n",
    "billable_usage = total_consumption - gardening_usage\n",
    "\n",
    "# Calculate the total water bill\n",
    "water_bill = (billable_usage // 1000) * charge_per_1000\n",
    "\n",
    "print(\"Total water bill (excluding gardening): INR\", water_bill)\n"
   ]
  }
 ],
 "metadata": {
  "kernelspec": {
   "display_name": "Python 3",
   "language": "python",
   "name": "python3"
  },
  "language_info": {
   "codemirror_mode": {
    "name": "ipython",
    "version": 3
   },
   "file_extension": ".py",
   "mimetype": "text/x-python",
   "name": "python",
   "nbconvert_exporter": "python",
   "pygments_lexer": "ipython3",
   "version": "3.12.6"
  }
 },
 "nbformat": 4,
 "nbformat_minor": 2
}
