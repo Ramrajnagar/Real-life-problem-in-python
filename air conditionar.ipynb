{
 "cells": [
  {
   "cell_type": "markdown",
   "metadata": {},
   "source": [
    "Question:\n",
    "Given the current room conditions, find out if the air conditioner should be turned on.\n"
   ]
  },
  {
   "cell_type": "code",
   "execution_count": null,
   "metadata": {},
   "outputs": [],
   "source": [
    "#Check if the air conditioner should be turned on based on current room temperature and a threshold.\n",
    "\n",
    "def should_turn_on_ac(current_temp, threshold_temp):\n",
    "    if current_temp > threshold_temp:\n",
    "        return True\n",
    "    else:\n",
    "        return False\n",
    "\n",
    "# Example usage\n",
    "current_temp = 30\n",
    "threshold_temp = 25\n",
    "print(\"Turn on AC:\", should_turn_on_ac(current_temp, threshold_temp))  # True\n"
   ]
  }
 ],
 "metadata": {
  "kernelspec": {
   "display_name": "Python 3",
   "language": "python",
   "name": "python3"
  },
  "language_info": {
   "codemirror_mode": {
    "name": "ipython",
    "version": 3
   },
   "file_extension": ".py",
   "mimetype": "text/x-python",
   "name": "python",
   "nbconvert_exporter": "python",
   "pygments_lexer": "ipython3",
   "version": "3.12.6"
  }
 },
 "nbformat": 4,
 "nbformat_minor": 2
}
