{
 "cells": [
  {
   "cell_type": "markdown",
   "metadata": {},
   "source": [
    "Question:\n",
    "A parking garage charges INR 30 for the first hour and INR 20 for each additional hour. A car entered the garage at 9 AM and left at 2 PM. The car owner also bought a coffee from the café inside the garage for INR 63. Write a program to calculate the total parking fee.\n"
   ]
  },
  {
   "cell_type": "code",
   "execution_count": null,
   "metadata": {},
   "outputs": [],
   "source": [
    "#Calculate the total parking fee and include a coffee purchase.\n",
    "\n",
    "# Parking fee rates\n",
    "first_hour_fee = 30\n",
    "additional_hour_fee = 20\n",
    "\n",
    "# Parking duration: from 9 AM to 2 PM (5 hours)\n",
    "total_hours = 5\n",
    "\n",
    "# Calculate total parking fee\n",
    "total_fee = first_hour_fee + (total_hours - 1) * additional_hour_fee\n",
    "\n",
    "# Coffee purchase cost\n",
    "coffee_price = 63\n",
    "\n",
    "# Total expense\n",
    "total_cost = total_fee + coffee_price\n",
    "\n",
    "print(\"Total parking fee:\", total_fee)\n",
    "print(\"Total cost including coffee:\", total_cost)\n"
   ]
  }
 ],
 "metadata": {
  "kernelspec": {
   "display_name": "Python 3",
   "language": "python",
   "name": "python3"
  },
  "language_info": {
   "codemirror_mode": {
    "name": "ipython",
    "version": 3
   },
   "file_extension": ".py",
   "mimetype": "text/x-python",
   "name": "python",
   "nbconvert_exporter": "python",
   "pygments_lexer": "ipython3",
   "version": "3.12.6"
  }
 },
 "nbformat": 4,
 "nbformat_minor": 2
}
