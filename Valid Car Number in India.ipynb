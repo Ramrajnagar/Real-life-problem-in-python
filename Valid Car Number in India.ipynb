{
 "cells": [
  {
   "cell_type": "markdown",
   "metadata": {},
   "source": [
    "Question:\n",
    "Given a car number, return True if the input is a valid number in India.\n"
   ]
  },
  {
   "cell_type": "code",
   "execution_count": null,
   "metadata": {},
   "outputs": [],
   "source": [
    "def is_valid_car_number(car_number):\n",
    "    if len(car_number) != 10:\n",
    "        return False\n",
    "\n",
    "    # Check format: Two letters, two digits, two letters, four digits\n",
    "    if car_number[0:2].isalpha() and car_number[2:4].isdigit() and \\\n",
    "       car_number[4:6].isalpha() and car_number[6:10].isdigit():\n",
    "        return True\n",
    "    return False\n",
    "\n",
    "# Test cases\n",
    "print(is_valid_car_number(\"KA01AB1234\"))  # True\n",
    "print(is_valid_car_number(\"KAB01234\"))    # False\n"
   ]
  }
 ],
 "metadata": {
  "kernelspec": {
   "display_name": "Python 3",
   "language": "python",
   "name": "python3"
  },
  "language_info": {
   "codemirror_mode": {
    "name": "ipython",
    "version": 3
   },
   "file_extension": ".py",
   "mimetype": "text/x-python",
   "name": "python",
   "nbconvert_exporter": "python",
   "pygments_lexer": "ipython3",
   "version": "3.12.6"
  }
 },
 "nbformat": 4,
 "nbformat_minor": 2
}
