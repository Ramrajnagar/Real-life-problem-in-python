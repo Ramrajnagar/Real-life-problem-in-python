{
 "cells": [
  {
   "cell_type": "markdown",
   "metadata": {},
   "source": [
    "Question:\n",
    "Write a function to check if a given string is a valid PAN card number.\n"
   ]
  },
  {
   "cell_type": "code",
   "execution_count": null,
   "metadata": {},
   "outputs": [],
   "source": [
    "def is_valid_pan(pan):\n",
    "    if len(pan) != 10:\n",
    "        return False\n",
    "    \n",
    "    # Check for 5 letters, 4 digits, and 1 letter\n",
    "    for i in range(5):\n",
    "        if not ('A' <= pan[i] <= 'Z'):\n",
    "            return False\n",
    "    for i in range(5, 9):\n",
    "        if not ('0' <= pan[i] <= '9'):\n",
    "            return False\n",
    "    if not ('A' <= pan[9] <= 'Z'):\n",
    "        return False\n",
    "    \n",
    "    return True\n",
    "\n",
    "# Test cases\n",
    "print(is_valid_pan(\"ABCDE1234F\"))  # True\n",
    "print(is_valid_pan(\"A1CDE1234F\"))  # False\n"
   ]
  }
 ],
 "metadata": {
  "kernelspec": {
   "display_name": "Python 3",
   "language": "python",
   "name": "python3"
  },
  "language_info": {
   "codemirror_mode": {
    "name": "ipython",
    "version": 3
   },
   "file_extension": ".py",
   "mimetype": "text/x-python",
   "name": "python",
   "nbconvert_exporter": "python",
   "pygments_lexer": "ipython3",
   "version": "3.12.6"
  }
 },
 "nbformat": 4,
 "nbformat_minor": 2
}
