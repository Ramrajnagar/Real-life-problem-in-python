{
 "cells": [
  {
   "cell_type": "markdown",
   "metadata": {},
   "source": [
    "Question:\n",
    "There is a running competition with 20 participants. You need to find the top 3 participants who ran the fastest.\n"
   ]
  },
  {
   "cell_type": "code",
   "execution_count": null,
   "metadata": {},
   "outputs": [],
   "source": [
    "#There is a running competition with 20 participants. You need to find the top 3 participants who ran the fastest.\n",
    "\n",
    "\n",
    "times = [12.5, 11.8, 13.0, 14.2, 10.5, 12.0, 11.0, 12.1, 11.5, 13.5, 10.9, 14.0, 12.3, 11.2, 13.1, 12.7, 11.6, 12.9, 10.8, 14.1]\n",
    "\n",
    "# Sort manually\n",
    "for i in range(len(times)):\n",
    "    for j in range(i + 1, len(times)):\n",
    "        if times[i] > times[j]:\n",
    "            times[i], times[j] = times[j], times[i]\n",
    "\n",
    "print(\"Top 3 fastest times:\", times[0], times[1], times[2])\n"
   ]
  }
 ],
 "metadata": {
  "language_info": {
   "name": "python"
  }
 },
 "nbformat": 4,
 "nbformat_minor": 2
}
