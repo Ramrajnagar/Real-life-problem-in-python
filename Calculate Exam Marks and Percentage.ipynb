{
 "cells": [
  {
   "cell_type": "markdown",
   "metadata": {},
   "source": [
    "Question:\n",
    "\n",
    "You are taking an exam with four types of questions: 10 questions are 4 marks each, 10 questions are 3 marks each, 10 questions are 2 marks each, and 5 questions are 1 mark each. For each correct answer, you receive full marks, while each incorrect answer results in a deduction of 1 mark. You answered 5 questions from the 4-mark section, 4 questions from the 3-mark section, 7 questions from the 2-mark section, and 3 questions from the 1-mark section. Out of these, 8 answers were incorrect. Calculate the total marks you achieved, your percentage score, and determine if you passed the exam, given that the passing mark is 80. Write a function that takes these numbers as input and does all the calculations to return the output.\n"
   ]
  },
  {
   "cell_type": "code",
   "execution_count": null,
   "metadata": {},
   "outputs": [],
   "source": [
    "def calculate_exam_score():\n",
    "    # Marks for each type of question\n",
    "    correct_4_marks = 5\n",
    "    correct_3_marks = 4\n",
    "    correct_2_marks = 7\n",
    "    correct_1_marks = 3\n",
    "    \n",
    "    incorrect_answers = 8\n",
    "    \n",
    "    # Total questions in each section\n",
    "    total_4_marks = 10\n",
    "    total_3_marks = 10\n",
    "    total_2_marks = 10\n",
    "    total_1_marks = 5\n",
    "    \n",
    "    # Calculate total possible marks\n",
    "    total_possible_marks = (total_4_marks * 4) + (total_3_marks * 3) + (total_2_marks * 2) + (total_1_marks * 1)\n",
    "\n",
    "    # Calculate the marks achieved based on correct answers\n",
    "    total_marks_obtained = (correct_4_marks * 4) + (correct_3_marks * 3) + (correct_2_marks * 2) + (correct_1_marks * 1)\n",
    "    \n",
    "    # Deduct marks for incorrect answers\n",
    "    total_marks_obtained -= incorrect_answers\n",
    "    \n",
    "    # Calculate percentage\n",
    "    percentage = (total_marks_obtained / total_possible_marks) * 100\n",
    "    \n",
    "    # Determine if the student passed\n",
    "    passing_marks = 80\n",
    "    passed = percentage >= passing_marks\n",
    "    \n",
    "    print(\"Total Marks Obtained:\", total_marks_obtained)\n",
    "    print(\"Percentage:\", percentage)\n",
    "    print(\"Passed:\", passed)\n",
    "\n",
    "# Run the function\n",
    "calculate_exam_score()\n"
   ]
  }
 ],
 "metadata": {
  "kernelspec": {
   "display_name": "Python 3",
   "language": "python",
   "name": "python3"
  },
  "language_info": {
   "codemirror_mode": {
    "name": "ipython",
    "version": 3
   },
   "file_extension": ".py",
   "mimetype": "text/x-python",
   "name": "python",
   "nbconvert_exporter": "python",
   "pygments_lexer": "ipython3",
   "version": "3.12.6"
  }
 },
 "nbformat": 4,
 "nbformat_minor": 2
}
