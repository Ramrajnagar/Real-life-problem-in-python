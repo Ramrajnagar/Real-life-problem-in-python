{
 "cells": [
  {
   "cell_type": "markdown",
   "metadata": {},
   "source": [
    "Question:\n",
    "Write a function to check if a given number is a valid mobile number in India.\n"
   ]
  },
  {
   "cell_type": "code",
   "execution_count": null,
   "metadata": {},
   "outputs": [],
   "source": [
    "def is_valid_mobile_number(number):\n",
    "    # Check if the number is a string of exactly 10 digits\n",
    "    if len(number) == 10 and number.isdigit():\n",
    "        # Check if it starts with 7, 8, or 9\n",
    "        if number[0] in '789':\n",
    "            return True\n",
    "    return False\n",
    "\n",
    "# Test cases\n",
    "print(is_valid_mobile_number(\"9876543210\"))  # True\n",
    "print(is_valid_mobile_number(\"1234567890\"))  # False\n",
    "print(is_valid_mobile_number(\"98765a3210\"))  # False\n"
   ]
  }
 ],
 "metadata": {
  "kernelspec": {
   "display_name": "Python 3",
   "language": "python",
   "name": "python3"
  },
  "language_info": {
   "codemirror_mode": {
    "name": "ipython",
    "version": 3
   },
   "file_extension": ".py",
   "mimetype": "text/x-python",
   "name": "python",
   "nbconvert_exporter": "python",
   "pygments_lexer": "ipython3",
   "version": "3.12.6"
  }
 },
 "nbformat": 4,
 "nbformat_minor": 2
}
