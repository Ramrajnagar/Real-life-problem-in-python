{
 "cells": [
  {
   "cell_type": "markdown",
   "metadata": {},
   "source": [
    "Question:\n",
    "An invoice ID at a company starts with two uppercase letters, followed by four digits, and ends with an uppercase letter (e.g., “AB1234X”). Write a function to check if the input string matches this format.\n"
   ]
  },
  {
   "cell_type": "code",
   "execution_count": null,
   "metadata": {},
   "outputs": [],
   "source": [
    "def is_valid_invoice_id(invoice_id):\n",
    "    if len(invoice_id) == 7:\n",
    "        # Check if the first two and last characters are uppercase letters\n",
    "        if invoice_id[0:2].isalpha() and invoice_id[0:2].isupper() and \\\n",
    "           invoice_id[6].isalpha() and invoice_id[6].isupper():\n",
    "            # Check if the middle part is digits\n",
    "            if invoice_id[2:6].isdigit():\n",
    "                return True\n",
    "    return False\n",
    "\n",
    "# Test cases\n",
    "print(is_valid_invoice_id(\"AB1234X\"))  # True\n",
    "print(is_valid_invoice_id(\"AB1234x\"))  # False\n",
    "print(is_valid_invoice_id(\"aB1234X\"))  # False\n"
   ]
  }
 ],
 "metadata": {
  "kernelspec": {
   "display_name": "Python 3",
   "language": "python",
   "name": "python3"
  },
  "language_info": {
   "codemirror_mode": {
    "name": "ipython",
    "version": 3
   },
   "file_extension": ".py",
   "mimetype": "text/x-python",
   "name": "python",
   "nbconvert_exporter": "python",
   "pygments_lexer": "ipython3",
   "version": "3.12.6"
  }
 },
 "nbformat": 4,
 "nbformat_minor": 2
}
