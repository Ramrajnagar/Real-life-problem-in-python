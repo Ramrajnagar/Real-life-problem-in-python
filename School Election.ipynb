{
 "cells": [
  {
   "cell_type": "markdown",
   "metadata": {},
   "source": [
    "Question:\n",
    "A school election has 4 candidates, and 30 students cast their votes. Write a program to count how many votes each candidate received and display the winner.\n"
   ]
  },
  {
   "cell_type": "code",
   "execution_count": null,
   "metadata": {},
   "outputs": [],
   "source": [
    "# Votes cast by 30 students (candidate numbers: 1 to 4)\n",
    "votes = [1, 2, 1, 3, 4, 2, 1, 4, 3, 2, 1, 3, 4, 1, 2, 4, 3, 2, 1, 1, 3, 2, 4, 1, 3, 2, 4, 1, 1, 2]\n",
    "\n",
    "# Initialize vote counters for each candidate\n",
    "vote_count = [0, 0, 0, 0]\n",
    "\n",
    "# Count votes for each candidate\n",
    "for vote in votes:\n",
    "    vote_count[vote - 1] += 1\n",
    "\n",
    "# Determine the winner\n",
    "max_votes = vote_count[0]\n",
    "winner = 1\n",
    "\n",
    "for i in range(1, 4):\n",
    "    if vote_count[i] > max_votes:\n",
    "        max_votes = vote_count[i]\n",
    "        winner = i + 1\n",
    "\n",
    "# Display the results\n",
    "for i in range(4):\n",
    "    print(f\"Candidate {i + 1} received {vote_count[i]} votes.\")\n",
    "\n",
    "print(f\"The winner is Candidate {winner} with {max_votes} votes.\")\n"
   ]
  }
 ],
 "metadata": {
  "kernelspec": {
   "display_name": "Python 3",
   "language": "python",
   "name": "python3"
  },
  "language_info": {
   "codemirror_mode": {
    "name": "ipython",
    "version": 3
   },
   "file_extension": ".py",
   "mimetype": "text/x-python",
   "name": "python",
   "nbconvert_exporter": "python",
   "pygments_lexer": "ipython3",
   "version": "3.12.6"
  }
 },
 "nbformat": 4,
 "nbformat_minor": 2
}
