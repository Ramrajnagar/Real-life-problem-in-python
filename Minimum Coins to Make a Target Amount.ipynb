{
 "cells": [
  {
   "cell_type": "markdown",
   "metadata": {},
   "source": [
    "Question:\n",
    "Given a set of coin denominations and a target amount, find the minimum number of coins required to make that amount.\n"
   ]
  },
  {
   "cell_type": "code",
   "execution_count": null,
   "metadata": {},
   "outputs": [],
   "source": [
    "def min_coins(coins, target):\n",
    "    # Sort the coins in descending order for greedy approach\n",
    "    coins.sort(reverse=True)\n",
    "    count = 0\n",
    "    for coin in coins:\n",
    "        while target >= coin:\n",
    "            target -= coin\n",
    "            count += 1\n",
    "    return count\n",
    "\n",
    "# Example\n",
    "coins = [1, 2, 5, 10, 20, 50, 100]\n",
    "target = 123\n",
    "print(\"Minimum coins required:\", min_coins(coins, target))\n"
   ]
  }
 ],
 "metadata": {
  "kernelspec": {
   "display_name": "Python 3",
   "language": "python",
   "name": "python3"
  },
  "language_info": {
   "codemirror_mode": {
    "name": "ipython",
    "version": 3
   },
   "file_extension": ".py",
   "mimetype": "text/x-python",
   "name": "python",
   "nbconvert_exporter": "python",
   "pygments_lexer": "ipython3",
   "version": "3.12.6"
  }
 },
 "nbformat": 4,
 "nbformat_minor": 2
}
