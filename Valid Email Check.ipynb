{
 "cells": [
  {
   "cell_type": "markdown",
   "metadata": {},
   "source": [
    "Question:\n",
    "Given an email string, return True if it is a valid email ID.\n"
   ]
  },
  {
   "cell_type": "code",
   "execution_count": null,
   "metadata": {},
   "outputs": [],
   "source": [
    "def is_valid_email(email):\n",
    "    # Check for '@' and '.'\n",
    "    at_found = False\n",
    "    dot_found = False\n",
    "    for char in email:\n",
    "        if char == '@':\n",
    "            at_found = True\n",
    "        if at_found and char == '.':\n",
    "            dot_found = True\n",
    "    # Ensure '@' is before the last '.'\n",
    "    return at_found and dot_found and email.index('@') < email.rindex('.')\n",
    "\n",
    "# Test cases\n",
    "print(is_valid_email(\"example@mail.com\"))  # True\n",
    "print(is_valid_email(\"examplemail.com\"))   # False\n",
    "print(is_valid_email(\"example@mailcom\"))   # False\n"
   ]
  }
 ],
 "metadata": {
  "kernelspec": {
   "display_name": "Python 3",
   "language": "python",
   "name": "python3"
  },
  "language_info": {
   "codemirror_mode": {
    "name": "ipython",
    "version": 3
   },
   "file_extension": ".py",
   "mimetype": "text/x-python",
   "name": "python",
   "nbconvert_exporter": "python",
   "pygments_lexer": "ipython3",
   "version": "3.12.6"
  }
 },
 "nbformat": 4,
 "nbformat_minor": 2
}
