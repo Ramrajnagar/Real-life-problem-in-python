{
 "cells": [
  {
   "cell_type": "markdown",
   "metadata": {},
   "source": [
    "A company offers discounts based on a tiered system, where each product’s discount is determined by a percentage based on its price. Write a Python program that calculates the total discounted price of a list of products. The program should take a list of product prices (eg. 50, 150, 600, 1200) and apply the respective discount to each product, then return the total discounted cost."
   ]
  },
  {
   "cell_type": "code",
   "execution_count": null,
   "metadata": {},
   "outputs": [],
   "source": [
    "def calculate_discount(prices):\n",
    "    total_discounted_price = 0\n",
    "    for price in prices:\n",
    "        if price < 100:\n",
    "            discount = 0.05\n",
    "        elif 100 <= price <= 500:\n",
    "            discount = 0.10\n",
    "        else:\n",
    "            discount = 0.15\n",
    "        total_discounted_price += price - (price * discount)\n",
    "    return total_discounted_price\n",
    "\n",
    "# Example\n",
    "prices = [50, 150, 600, 1200]\n",
    "print(\"Total discounted price:\", calculate_discount(prices))\n"
   ]
  }
 ],
 "metadata": {
  "kernelspec": {
   "display_name": "Python 3",
   "language": "python",
   "name": "python3"
  },
  "language_info": {
   "codemirror_mode": {
    "name": "ipython",
    "version": 3
   },
   "file_extension": ".py",
   "mimetype": "text/x-python",
   "name": "python",
   "nbconvert_exporter": "python",
   "pygments_lexer": "ipython3",
   "version": "3.12.6"
  }
 },
 "nbformat": 4,
 "nbformat_minor": 2
}
