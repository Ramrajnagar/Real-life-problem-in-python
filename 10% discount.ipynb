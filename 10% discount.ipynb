{
 "cells": [
  {
   "cell_type": "markdown",
   "metadata": {},
   "source": [
    "Question:\n",
    "A store has 10 different items. The store manager wants to apply a 10% discount on every item that costs more than INR 50. Write a program to display the updated prices for each item.\n"
   ]
  },
  {
   "cell_type": "code",
   "execution_count": null,
   "metadata": {},
   "outputs": [],
   "source": [
    "#A store has 10 different items. The store manager wants to apply a 10% discount on every item that costs more than INR 50. W\n",
    "# rite a program to display the updated prices for each item.\n",
    "item_prices = [45, 60, 75, 50, 30, 80, 55, 100, 25, 65]\n",
    "\n",
    "updated_prices = []\n",
    "for price in item_prices:\n",
    "    if price > 50:\n",
    "        new_price = price - (price * 10 // 100)\n",
    "    else:\n",
    "        new_price = price\n",
    "    updated_prices.append(new_price)\n",
    "\n",
    "print(\"Updated Prices:\", updated_prices)\n"
   ]
  }
 ],
 "metadata": {
  "kernelspec": {
   "display_name": "Python 3",
   "language": "python",
   "name": "python3"
  },
  "language_info": {
   "codemirror_mode": {
    "name": "ipython",
    "version": 3
   },
   "file_extension": ".py",
   "mimetype": "text/x-python",
   "name": "python",
   "nbconvert_exporter": "python",
   "pygments_lexer": "ipython3",
   "version": "3.12.6"
  }
 },
 "nbformat": 4,
 "nbformat_minor": 2
}
