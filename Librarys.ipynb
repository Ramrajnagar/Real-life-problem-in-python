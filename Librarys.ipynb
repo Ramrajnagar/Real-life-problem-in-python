{
 "cells": [
  {
   "cell_type": "markdown",
   "metadata": {},
   "source": [
    "Quesstion:\n",
    "A library has a collection of 25 books, and each book is either available or checked out. Write a program to count the number of available books and the number of books that are checked out.\n"
   ]
  },
  {
   "cell_type": "code",
   "execution_count": null,
   "metadata": {},
   "outputs": [],
   "source": [
    "# Availability status for 25 books (True = available, False = checked out)\n",
    "books = [True, False, True, True, False, True, False, False, True, True,\n",
    "         False, True, True, False, True, False, True, True, False, True,\n",
    "         False, True, True, False, False]\n",
    "\n",
    "# Initialize counters\n",
    "available_count = 0\n",
    "checked_out_count = 0\n",
    "\n",
    "# Count available and checked-out books\n",
    "for status in books:\n",
    "    if status:\n",
    "        available_count += 1\n",
    "    else:\n",
    "        checked_out_count += 1\n",
    "\n",
    "# Display the counts\n",
    "print(\"Available books:\", available_count)\n",
    "print(\"Checked-out books:\", checked_out_count)\n"
   ]
  }
 ],
 "metadata": {
  "kernelspec": {
   "display_name": "Python 3",
   "language": "python",
   "name": "python3"
  },
  "language_info": {
   "codemirror_mode": {
    "name": "ipython",
    "version": 3
   },
   "file_extension": ".py",
   "mimetype": "text/x-python",
   "name": "python",
   "nbconvert_exporter": "python",
   "pygments_lexer": "ipython3",
   "version": "3.12.6"
  }
 },
 "nbformat": 4,
 "nbformat_minor": 2
}
