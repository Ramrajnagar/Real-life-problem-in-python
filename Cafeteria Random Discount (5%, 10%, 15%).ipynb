{
 "cells": [
  {
   "cell_type": "markdown",
   "metadata": {},
   "source": [
    "Question:\n",
    "A cafeteria has a menu of 15 items. Every day, the cafeteria gives a random discount of 5%, 10%, or 15% on all items. Write a program to calculate the new prices for each item after the discount is applied."
   ]
  },
  {
   "cell_type": "code",
   "execution_count": null,
   "metadata": {},
   "outputs": [],
   "source": [
    "import random\n",
    "\n",
    "# Prices of 15 items\n",
    "prices = [50, 60, 75, 90, 100, 120, 150, 80, 70, 55, 40, 30, 110, 130, 140]\n",
    "\n",
    "print(\"New Prices after random discounts:\")\n",
    "\n",
    "for i in range(15):\n",
    "    discount_percent = random.choice([5, 10, 15])\n",
    "    discount_amount = prices[i] * discount_percent // 100\n",
    "    new_price = prices[i] - discount_amount\n",
    "    print(\"Item\", i + 1, \"Original:\", prices[i], \"Discount:\", discount_percent, \"%\", \"New Price:\", new_price)\n"
   ]
  }
 ],
 "metadata": {
  "kernelspec": {
   "display_name": "Python 3",
   "language": "python",
   "name": "python3"
  },
  "language_info": {
   "codemirror_mode": {
    "name": "ipython",
    "version": 3
   },
   "file_extension": ".py",
   "mimetype": "text/x-python",
   "name": "python",
   "nbconvert_exporter": "python",
   "pygments_lexer": "ipython3",
   "version": "3.12.6"
  }
 },
 "nbformat": 4,
 "nbformat_minor": 2
}
