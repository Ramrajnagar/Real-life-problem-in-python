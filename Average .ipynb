{
 "cells": [
  {
   "cell_type": "markdown",
   "metadata": {},
   "source": [
    "Question:\n",
    "A teacher has 30 students in a class. Each student has a list of 5 exam scores. Write a program to calculate and display the average score of each student."
   ]
  },
  {
   "cell_type": "code",
   "execution_count": null,
   "metadata": {},
   "outputs": [],
   "source": [
    "# Initialize the scores for 30 students (each with 5 exam scores)\n",
    "students_scores = [\n",
    "    [78, 85, 92, 88, 76], [90, 81, 86, 79, 88], [76, 81, 84, 89, 92],\n",
    "    [88, 77, 95, 85, 80], [70, 80, 75, 85, 90], [82, 76, 88, 90, 92],\n",
    "    [75, 70, 85, 88, 79], [90, 92, 88, 84, 86], [77, 81, 80, 85, 83],\n",
    "    [68, 74, 72, 79, 81], [91, 89, 93, 94, 88], [85, 87, 90, 92, 86],\n",
    "    [78, 75, 80, 82, 77], [76, 88, 84, 90, 89], [92, 93, 95, 94, 91],\n",
    "    [70, 72, 74, 76, 78], [88, 85, 87, 90, 86], [82, 84, 85, 89, 83],\n",
    "    [80, 83, 87, 85, 88], [71, 75, 78, 82, 79], [88, 92, 85, 90, 87],\n",
    "    [74, 76, 79, 81, 80], [83, 84, 82, 85, 88], [78, 80, 82, 84, 85],\n",
    "    [92, 91, 89, 88, 87], [75, 77, 79, 81, 78], [88, 90, 85, 89, 87],\n",
    "    [84, 83, 86, 89, 87], [78, 79, 80, 82, 81], [85, 88, 90, 87, 89]\n",
    "]\n",
    "\n",
    "# Loop through each student's scores\n",
    "for student_index in range(30):\n",
    "    total_score = 0\n",
    "    count_scores = 0\n",
    "\n",
    "    # Calculate the total score for the student\n",
    "    for score in students_scores[student_index]:\n",
    "        total_score += score\n",
    "        count_scores += 1\n",
    "\n",
    "    # Calculate the average score\n",
    "    average_score = total_score / count_scores\n",
    "\n",
    "    # Display the average score for each student\n",
    "    print(\"Student\", student_index + 1, \"Average Score =\", average_score)\n"
   ]
  }
 ],
 "metadata": {
  "kernelspec": {
   "display_name": "Python 3",
   "language": "python",
   "name": "python3"
  },
  "language_info": {
   "codemirror_mode": {
    "name": "ipython",
    "version": 3
   },
   "file_extension": ".py",
   "mimetype": "text/x-python",
   "name": "python",
   "nbconvert_exporter": "python",
   "pygments_lexer": "ipython3",
   "version": "3.12.6"
  }
 },
 "nbformat": 4,
 "nbformat_minor": 2
}
