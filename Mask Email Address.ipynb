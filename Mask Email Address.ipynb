{
 "cells": [
  {
   "cell_type": "markdown",
   "metadata": {},
   "source": [
    "Question:\n",
    "Create a function mask_email(email) that takes an email address and hides part of it for privacy, showing only the first two characters of the username and the domain.\n"
   ]
  },
  {
   "cell_type": "code",
   "execution_count": null,
   "metadata": {},
   "outputs": [],
   "source": [
    "def mask_email(email):\n",
    "    # Split the email into username and domain\n",
    "    username, domain = email.split('@')\n",
    "    \n",
    "    # Mask the username, showing only the first two characters\n",
    "    masked_username = username[:2] + '*' * (len(username) - 2)\n",
    "    \n",
    "    # Return the masked email\n",
    "    return masked_username + '@' + domain\n",
    "\n",
    "# Test cases\n",
    "print(mask_email(\"example@mail.com\"))  # ex*****@mail.com\n",
    "print(mask_email(\"john.doe@gmail.com\"))  # jo*****@gmail.com\n"
   ]
  }
 ],
 "metadata": {
  "kernelspec": {
   "display_name": "Python 3",
   "language": "python",
   "name": "python3"
  },
  "language_info": {
   "codemirror_mode": {
    "name": "ipython",
    "version": 3
   },
   "file_extension": ".py",
   "mimetype": "text/x-python",
   "name": "python",
   "nbconvert_exporter": "python",
   "pygments_lexer": "ipython3",
   "version": "3.12.6"
  }
 },
 "nbformat": 4,
 "nbformat_minor": 2
}
