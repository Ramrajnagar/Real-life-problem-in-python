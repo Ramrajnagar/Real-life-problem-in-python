{
 "cells": [
  {
   "cell_type": "markdown",
   "metadata": {},
   "source": [
    "Question:\n",
    "A movie website has ratings from 5 users for 3 different movies. Each user gives a rating between 1 to 5. Write a program to find the highest-rated movie.\n"
   ]
  },
  {
   "cell_type": "code",
   "execution_count": null,
   "metadata": {},
   "outputs": [],
   "source": [
    "ratings = [\n",
    "    [4, 3, 5], [5, 4, 4], [3, 5, 2], [4, 4, 5], [5, 3, 4]\n",
    "]\n",
    "\n",
    "average_ratings = [0, 0, 0]\n",
    "\n",
    "for i in range(3):\n",
    "    total_rating = 0\n",
    "    for j in range(5):\n",
    "        total_rating += ratings[j][i]\n",
    "    average_ratings[i] = total_rating / 5\n",
    "\n",
    "highest_rating = average_ratings[0]\n",
    "highest_index = 0\n",
    "for i in range(3):\n",
    "    if average_ratings[i] > highest_rating:\n",
    "        highest_rating = average_ratings[i]\n",
    "        highest_index = i\n",
    "\n",
    "print(\"Highest-rated movie is Movie\", highest_index + 1, \"with an average rating of\", highest_rating)\n"
   ]
  }
 ],
 "metadata": {
  "kernelspec": {
   "display_name": "Python 3",
   "language": "python",
   "name": "python3"
  },
  "language_info": {
   "codemirror_mode": {
    "name": "ipython",
    "version": 3
   },
   "file_extension": ".py",
   "mimetype": "text/x-python",
   "name": "python",
   "nbconvert_exporter": "python",
   "pygments_lexer": "ipython3",
   "version": "3.12.6"
  }
 },
 "nbformat": 4,
 "nbformat_minor": 2
}
