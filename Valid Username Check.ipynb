{
 "cells": [
  {
   "cell_type": "markdown",
   "metadata": {},
   "source": [
    "Question:\n",
    "Given a username string, return True if the username is valid (must be between 6 and 12 characters and contain only alphanumeric characters).\n"
   ]
  },
  {
   "cell_type": "code",
   "execution_count": null,
   "metadata": {},
   "outputs": [],
   "source": [
    "def is_valid_username(username):\n",
    "    # Check length\n",
    "    if len(username) < 6 or len(username) > 12:\n",
    "        return False\n",
    "\n",
    "    # Check alphanumeric characters\n",
    "    for char in username:\n",
    "        if not (('a' <= char <= 'z') or ('A' <= char <= 'Z') or ('0' <= char <= '9')):\n",
    "            return False\n",
    "\n",
    "    return True\n",
    "\n",
    "# Test cases\n",
    "print(is_valid_username(\"User123\"))  # True\n",
    "print(is_valid_username(\"Usr!23\"))   # False\n",
    "print(is_valid_username(\"User1234567890\"))  # False\n"
   ]
  }
 ],
 "metadata": {
  "kernelspec": {
   "display_name": "Python 3",
   "language": "python",
   "name": "python3"
  },
  "language_info": {
   "codemirror_mode": {
    "name": "ipython",
    "version": 3
   },
   "file_extension": ".py",
   "mimetype": "text/x-python",
   "name": "python",
   "nbconvert_exporter": "python",
   "pygments_lexer": "ipython3",
   "version": "3.12.6"
  }
 },
 "nbformat": 4,
 "nbformat_minor": 2
}
